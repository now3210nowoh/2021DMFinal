{
 "cells": [
  {
   "cell_type": "code",
   "execution_count": 146,
   "id": "103a4501",
   "metadata": {},
   "outputs": [],
   "source": [
    "import jieba\n",
    "import numpy as np # linear algebra\n",
    "import pandas as pd # data processing, CSV file I/O (e.g. pd.read_csv)\n",
    "import os, glob, time, copy, random, zipfile\n",
    "import matplotlib.pyplot as plt\n",
    "from PIL import Image\n",
    "from sklearn.model_selection import train_test_split\n",
    "from tqdm.notebook import tqdm\n",
    "\n",
    "import torch\n",
    "import torch.nn as nn\n",
    "import torch.optim as optim\n",
    "import torch.utils.data as data\n",
    "import torch.nn.functional as F\n",
    "import torchvision\n",
    "from torchvision import models, transforms"
   ]
  },
  {
   "cell_type": "code",
   "execution_count": 147,
   "id": "c05b6dd9",
   "metadata": {},
   "outputs": [],
   "source": [
    "from os import listdir\n",
    "from os.path import isfile, join,splitext\n",
    "datapath = 'Stage_2\\dataPublicComplete_s2\\dataPublicComplete'\n",
    "txt_fnames = [splitext(f)[0] for f in listdir(datapath) if isfile(join(datapath, f))]"
   ]
  },
  {
   "cell_type": "code",
   "execution_count": 148,
   "id": "90e45dc5",
   "metadata": {},
   "outputs": [],
   "source": [
    "crop_list = open('Keywords/02crop.list.csv', \"r\",encoding='UTF-8-sig')\n",
    "crop = crop_list.read()\n",
    "crop_line_sep = crop.splitlines()\n",
    "\n",
    "pest_list = open('Keywords/02pest.list.csv', \"r\",encoding='UTF-8-sig')\n",
    "pest = pest_list.read()\n",
    "pest_line_sep = pest.splitlines()\n",
    "\n",
    "chem_list = open('Keywords/02chem.list.csv', \"r\",encoding='UTF-8-sig')\n",
    "chem = chem_list.read()\n",
    "chem_line_sep = chem.splitlines()"
   ]
  },
  {
   "cell_type": "code",
   "execution_count": 149,
   "id": "5fac3e6e",
   "metadata": {},
   "outputs": [],
   "source": [
    "from itertools import chain\n",
    "vector_dict = {}\n",
    "for idx,line in enumerate(chain(crop_line_sep,pest_line_sep,chem_line_sep)):\n",
    "    l = line.split(',')\n",
    "    for word in l:\n",
    "        if(word == ''):continue\n",
    "        jieba.add_word(word)\n",
    "        vector_dict[word] = idx"
   ]
  },
  {
   "cell_type": "code",
   "execution_count": 150,
   "id": "b739aaf1",
   "metadata": {},
   "outputs": [],
   "source": [
    "vectors = {}\n",
    "for fname in txt_fnames:\n",
    "    txt = open(datapath+'/'+fname+'.txt', \"r\",encoding=\"utf-8\")\n",
    "    content = txt.read()\n",
    "    seg_list = jieba.cut(content, cut_all=True)\n",
    "    vectors[fname] = [0]*764\n",
    "    for seg in seg_list:\n",
    "        if(seg in vector_dict):\n",
    "            vectors[fname][vector_dict[seg]] += 1"
   ]
  },
  {
   "cell_type": "code",
   "execution_count": 151,
   "id": "ef79f51e",
   "metadata": {},
   "outputs": [],
   "source": [
    "class NeuralNetwork(nn.Module):\n",
    "    def __init__(self):\n",
    "        super(NeuralNetwork, self).__init__()\n",
    "        self.linear_relu_stack = nn.Sequential(\n",
    "            nn.Linear(2*764, 512),\n",
    "            nn.ReLU(),\n",
    "            nn.Linear(512, 512),\n",
    "            nn.ReLU(),\n",
    "            nn.Linear(512, 20),\n",
    "            nn.Sigmoid(),\n",
    "            nn.Linear(20, 2),\n",
    "        )\n",
    "\n",
    "    def forward(self, x):\n",
    "        logits = self.linear_relu_stack(x)\n",
    "        return logits"
   ]
  },
  {
   "cell_type": "code",
   "execution_count": 152,
   "id": "05417d3f",
   "metadata": {},
   "outputs": [],
   "source": [
    "net = NeuralNetwork()\n",
    "net.load_state_dict(torch.load('best_checkpoint_last.pth'))\n",
    "net.eval()\n",
    "device = torch.device(\"cuda:0\" if torch.cuda.is_available() else \"cpu\")\n",
    "net = net.to(device)"
   ]
  },
  {
   "cell_type": "code",
   "execution_count": 153,
   "id": "e303af1e",
   "metadata": {},
   "outputs": [],
   "source": [
    "out = []\n",
    "with torch.no_grad():\n",
    "    for fname1 in txt_fnames:\n",
    "        for fname2 in txt_fnames:\n",
    "            if(fname1 == fname2):continue\n",
    "            else:\n",
    "                comb_vec = torch.tensor(vectors[fname1]+vectors[fname2])\n",
    "                comb_vec = comb_vec.type(torch.FloatTensor).to(device)\n",
    "                lbl = net(comb_vec)\n",
    "                out.append([(fname1,fname2),lbl.cpu()])\n"
   ]
  },
  {
   "cell_type": "code",
   "execution_count": 161,
   "id": "f3667d94",
   "metadata": {},
   "outputs": [],
   "source": [
    "better = []\n",
    "for o in out:\n",
    "    if(o[1][1] > 0 ):\n",
    "        better.append(o[0])"
   ]
  },
  {
   "cell_type": "code",
   "execution_count": 162,
   "id": "6b17544b",
   "metadata": {},
   "outputs": [
    {
     "name": "stdout",
     "output_type": "stream",
     "text": [
      "6298\n"
     ]
    }
   ],
   "source": [
    "print(len(better))"
   ]
  },
  {
   "cell_type": "code",
   "execution_count": 122,
   "id": "e10fc85e",
   "metadata": {},
   "outputs": [
    {
     "name": "stdout",
     "output_type": "stream",
     "text": [
      "[('1032', '1036'), tensor([ 2.5751, -2.8332])]\n"
     ]
    }
   ],
   "source": [
    "for o in out:\n",
    "    if(o[0] == ('1032','1036')):\n",
    "        print(o)\n",
    "better.sort(key=lambda x:int(x[0]))"
   ]
  },
  {
   "cell_type": "code",
   "execution_count": 163,
   "id": "4f69b799",
   "metadata": {},
   "outputs": [],
   "source": [
    "import csv\n",
    "with open('val.csv', 'w', newline='') as csvfile:\n",
    "    spamwriter = csv.writer(csvfile, delimiter=',',\n",
    "                            quotechar='|', quoting=csv.QUOTE_MINIMAL)\n",
    "    spamwriter.writerow([\"Test\"]+[\"Reference\"])\n",
    "    for row in better:  \n",
    "        spamwriter.writerow(row)"
   ]
  },
  {
   "cell_type": "code",
   "execution_count": 154,
   "id": "f8374cc3",
   "metadata": {},
   "outputs": [
    {
     "data": {
      "text/plain": [
       "[[('1001', '1004'), tensor([ 2.8223, -3.3220])],\n",
       " [('1001', '1006'), tensor([ 2.9246, -3.4106])],\n",
       " [('1001', '1008'), tensor([ 2.7173, -3.2599])],\n",
       " [('1001', '1009'), tensor([ 2.3772, -2.9819])],\n",
       " [('1001', '1012'), tensor([ 2.7990, -3.3099])],\n",
       " [('1001', '1014'), tensor([ 2.3454, -2.9554])],\n",
       " [('1001', '1019'), tensor([-1.2686,  0.1840])],\n",
       " [('1001', '102'), tensor([-0.2560, -0.7116])],\n",
       " [('1001', '1022'), tensor([-0.9860, -0.0671])],\n",
       " [('1001', '1024'), tensor([ 0.8966, -1.7245])],\n",
       " [('1001', '1027'), tensor([ 3.0371, -3.4940])],\n",
       " [('1001', '1028'), tensor([ 2.8781, -3.3751])],\n",
       " [('1001', '1029'), tensor([ 2.8928, -3.3870])],\n",
       " [('1001', '1032'), tensor([ 2.9018, -3.3942])],\n",
       " [('1001', '1034'), tensor([ 0.1076, -1.0337])],\n",
       " [('1001', '1036'), tensor([ 2.9018, -3.3942])],\n",
       " [('1001', '1038'), tensor([ 3.0023, -3.4662])],\n",
       " [('1001', '1040'), tensor([-0.0194, -0.9219])],\n",
       " [('1001', '1048'), tensor([ 2.8739, -3.3737])],\n",
       " [('1001', '1050'), tensor([ 2.3050, -2.9244])],\n",
       " [('1001', '1051'), tensor([ 0.0104, -0.9501])],\n",
       " [('1001', '1053'), tensor([ 2.7286, -3.2595])],\n",
       " [('1001', '1060'), tensor([ 3.1357, -3.5632])],\n",
       " [('1001', '1061'), tensor([ 2.6154, -3.1730])],\n",
       " [('1001', '1062'), tensor([ 3.1581, -3.5773])],\n",
       " [('1001', '1063'), tensor([ 2.8448, -3.3488])],\n",
       " [('1001', '1064'), tensor([ 1.6195, -2.3413])],\n",
       " [('1001', '1070'), tensor([ 2.9171, -3.4039])],\n",
       " [('1001', '1072'), tensor([-0.5638, -0.4446])],\n",
       " [('1001', '1080'), tensor([ 2.8712, -3.3722])],\n",
       " [('1001', '1081'), tensor([ 3.1246, -3.5542])],\n",
       " [('1001', '1084'), tensor([ 2.8431, -3.3464])],\n",
       " [('1001', '1085'), tensor([ 2.8831, -3.3791])],\n",
       " [('1001', '1089'), tensor([-0.3172, -0.6595])],\n",
       " [('1001', '109'), tensor([ 3.0583, -3.5076])],\n",
       " [('1001', '1091'), tensor([-2.6861,  1.4171])],\n",
       " [('1001', '1092'), tensor([ 3.2198, -3.6140])],\n",
       " [('1001', '1094'), tensor([ 2.9915, -3.4593])],\n",
       " [('1001', '1095'), tensor([ 2.8846, -3.3794])],\n",
       " [('1001', '1097'), tensor([ 2.0262, -2.6859])],\n",
       " [('1001', '1098'), tensor([ 2.9527, -3.4317])],\n",
       " [('1001', '1105'), tensor([ 2.8454, -3.3552])],\n",
       " [('1001', '1106'), tensor([ 3.0715, -3.5215])],\n",
       " [('1001', '111'), tensor([-2.3255,  1.1021])],\n",
       " [('1001', '1113'), tensor([ 2.9826, -3.4543])],\n",
       " [('1001', '112'), tensor([ 3.0271, -3.4896])],\n",
       " [('1001', '1121'), tensor([ 2.7837, -3.3079])],\n",
       " [('1001', '1123'), tensor([-0.5911, -0.4211])],\n",
       " [('1001', '1124'), tensor([ 2.9618, -3.4399])],\n",
       " [('1001', '1129'), tensor([ 2.8294, -3.3390])],\n",
       " [('1001', '1131'), tensor([ 1.3485, -2.1129])],\n",
       " [('1001', '1135'), tensor([ 3.0241, -3.4822])],\n",
       " [('1001', '1137'), tensor([ 3.1447, -3.5723])],\n",
       " [('1001', '114'), tensor([ 2.8792, -3.3695])],\n",
       " [('1001', '1140'), tensor([ 1.9906, -2.6565])],\n",
       " [('1001', '1143'), tensor([ 3.1819, -3.5948])],\n",
       " [('1001', '1156'), tensor([ 2.8934, -3.3888])],\n",
       " [('1001', '1158'), tensor([ 2.9601, -3.4325])],\n",
       " [('1001', '116'), tensor([ 3.0526, -3.5023])],\n",
       " [('1001', '1162'), tensor([ 3.0410, -3.4924])],\n",
       " [('1001', '1163'), tensor([-1.7281,  0.5829])],\n",
       " [('1001', '1164'), tensor([ 2.9588, -3.4368])],\n",
       " [('1001', '1175'), tensor([ 2.9832, -3.4541])],\n",
       " [('1001', '1177'), tensor([ 2.7467, -3.2741])],\n",
       " [('1001', '1182'), tensor([ 2.8995, -3.3962])],\n",
       " [('1001', '1188'), tensor([ 2.9196, -3.4080])],\n",
       " [('1001', '1196'), tensor([ 2.9620, -3.4407])],\n",
       " [('1001', '1197'), tensor([ 2.9611, -3.4410])],\n",
       " [('1001', '1201'), tensor([ 2.9754, -3.4497])],\n",
       " [('1001', '1202'), tensor([ 3.0086, -3.4736])],\n",
       " [('1001', '1203'), tensor([ 2.9341, -3.4200])],\n",
       " [('1001', '1204'), tensor([ 2.9956, -3.4648])],\n",
       " [('1001', '1205'), tensor([ 2.9494, -3.4296])],\n",
       " [('1001', '1209'), tensor([ 2.7804, -3.3065])],\n",
       " [('1001', '1213'), tensor([ 2.9697, -3.4451])],\n",
       " [('1001', '1216'), tensor([ 2.9885, -3.4599])],\n",
       " [('1001', '1219'), tensor([ 2.9885, -3.4599])],\n",
       " [('1001', '122'), tensor([ 2.9153, -3.3992])],\n",
       " [('1001', '1225'), tensor([ 3.0115, -3.4746])],\n",
       " [('1001', '1227'), tensor([ 2.9673, -3.4445])],\n",
       " [('1001', '123'), tensor([ 3.0271, -3.4843])],\n",
       " [('1001', '1231'), tensor([ 3.0612, -3.5125])],\n",
       " [('1001', '1233'), tensor([ 2.7485, -3.2812])],\n",
       " [('1001', '1238'), tensor([ 2.8831, -3.3807])],\n",
       " [('1001', '124'), tensor([ 3.0552, -3.5044])],\n",
       " [('1001', '1245'), tensor([ 3.0879, -3.5332])],\n",
       " [('1001', '125'), tensor([ 0.3051, -1.2077])],\n",
       " [('1001', '1251'), tensor([ 3.1295, -3.5631])],\n",
       " [('1001', '1252'), tensor([ 2.9494, -3.4296])],\n",
       " [('1001', '1254'), tensor([ 2.7705, -3.2982])],\n",
       " [('1001', '1268'), tensor([ 2.9913, -3.4622])],\n",
       " [('1001', '1269'), tensor([ 2.8455, -3.3574])],\n",
       " [('1001', '1273'), tensor([ 2.7958, -3.3188])],\n",
       " [('1001', '1277'), tensor([ 2.9495, -3.4315])],\n",
       " [('1001', '128'), tensor([ 2.5436, -3.1157])],\n",
       " [('1001', '1284'), tensor([ 2.8455, -3.3574])],\n",
       " [('1001', '1285'), tensor([ 2.8567, -3.3646])],\n",
       " [('1001', '1287'), tensor([ 2.7958, -3.3188])],\n",
       " [('1001', '1288'), tensor([ 2.8912, -3.3963])],\n",
       " [('1001', '1295'), tensor([ 2.7958, -3.3188])]]"
      ]
     },
     "execution_count": 154,
     "metadata": {},
     "output_type": "execute_result"
    }
   ],
   "source": []
  },
  {
   "cell_type": "code",
   "execution_count": 155,
   "id": "641e8f4b",
   "metadata": {},
   "outputs": [],
   "source": [
    "out.sort(key = lambda x:x[1][1],reverse = True)"
   ]
  },
  {
   "cell_type": "code",
   "execution_count": 160,
   "id": "58126843",
   "metadata": {},
   "outputs": [
    {
     "data": {
      "text/plain": [
       "[[('1156', '1209'), tensor([-0.9283, -0.1058])],\n",
       " [('87', '24'), tensor([-0.9380, -0.1059])],\n",
       " [('96', '24'), tensor([-0.9380, -0.1059])],\n",
       " [('435', '409'), tensor([-0.9487, -0.1060])],\n",
       " [('159', '269'), tensor([-0.9522, -0.1061])],\n",
       " [('798', '754'), tensor([-0.9283, -0.1063])],\n",
       " [('24', '464'), tensor([-0.9605, -0.1066])],\n",
       " [('473', '71'), tensor([-0.9309, -0.1067])],\n",
       " [('910', '714'), tensor([-0.9716, -0.1068])],\n",
       " [('742', '1336'), tensor([-0.9382, -0.1069])],\n",
       " [('697', '748'), tensor([-0.9421, -0.1071])],\n",
       " [('930', '79'), tensor([-0.9388, -0.1079])],\n",
       " [('79', '714'), tensor([-0.9634, -0.1090])],\n",
       " [('134', '13'), tensor([-0.9147, -0.1091])],\n",
       " [('490', '427'), tensor([-0.9226, -0.1093])],\n",
       " [('202', '488'), tensor([-0.9583, -0.1096])],\n",
       " [('742', '1345'), tensor([-0.9341, -0.1097])],\n",
       " [('161', '1384'), tensor([-0.9469, -0.1100])],\n",
       " [('941', '734'), tensor([-0.9336, -0.1100])],\n",
       " [('669', '459'), tensor([-0.9219, -0.1101])],\n",
       " [('74', '45'), tensor([-0.9450, -0.1103])],\n",
       " [('854', '1368'), tensor([-0.9340, -0.1105])],\n",
       " [('1123', '525'), tensor([-0.9299, -0.1105])],\n",
       " [('538', '1001'), tensor([-0.9488, -0.1111])],\n",
       " [('334', '1081'), tensor([-0.9319, -0.1111])],\n",
       " [('1009', '873'), tensor([-0.9507, -0.1118])],\n",
       " [('1124', '1177'), tensor([-0.9254, -0.1118])],\n",
       " [('859', '440'), tensor([-0.9412, -0.1118])],\n",
       " [('600', '1325'), tensor([-0.9268, -0.1121])],\n",
       " [('1123', '398'), tensor([-0.9464, -0.1121])],\n",
       " [('490', '796'), tensor([-0.9219, -0.1124])],\n",
       " [('1163', '409'), tensor([-0.9471, -0.1126])],\n",
       " [('697', '1251'), tensor([-0.9374, -0.1127])],\n",
       " [('910', '503'), tensor([-0.9448, -0.1127])],\n",
       " [('777', '339'), tensor([-0.9383, -0.1128])],\n",
       " [('975', '563'), tensor([-0.9365, -0.1129])],\n",
       " [('1029', '1094'), tensor([-0.9266, -0.1132])],\n",
       " [('270', '706'), tensor([-0.9252, -0.1135])],\n",
       " [('80', '1182'), tensor([-0.9227, -0.1136])],\n",
       " [('600', '1345'), tensor([-0.9249, -0.1137])],\n",
       " [('742', '1209'), tensor([-0.9290, -0.1137])],\n",
       " [('1299', '1344'), tensor([-0.9318, -0.1139])],\n",
       " [('518', '869'), tensor([-0.9269, -0.1142])],\n",
       " [('818', '926'), tensor([-0.9037, -0.1144])],\n",
       " [('742', '1177'), tensor([-0.9245, -0.1144])],\n",
       " [('87', '451'), tensor([-0.9318, -0.1145])],\n",
       " [('96', '451'), tensor([-0.9318, -0.1145])],\n",
       " [('109', '459'), tensor([-0.9264, -0.1146])],\n",
       " [('1006', '1188'), tensor([-0.9227, -0.1149])],\n",
       " [('1091', '538'), tensor([-0.9336, -0.1149])],\n",
       " [('445', '1376'), tensor([-0.9313, -0.1155])],\n",
       " [('1072', '433'), tensor([-0.9370, -0.1155])],\n",
       " [('573', '1050'), tensor([-0.9313, -0.1157])],\n",
       " [('815', '991'), tensor([-0.9180, -0.1159])],\n",
       " [('1006', '1353'), tensor([-0.9231, -0.1162])],\n",
       " [('1048', '762'), tensor([-0.9186, -0.1166])],\n",
       " [('803', '762'), tensor([-0.9186, -0.1166])],\n",
       " [('681', '132'), tensor([-0.9238, -0.1168])],\n",
       " [('815', '1012'), tensor([-0.9108, -0.1169])],\n",
       " [('518', '1388'), tensor([-0.9221, -0.1169])],\n",
       " [('1231', '896'), tensor([-0.9349, -0.1170])],\n",
       " [('1095', '1053'), tensor([-0.9171, -0.1173])],\n",
       " [('213', '648'), tensor([-0.9282, -0.1174])],\n",
       " [('702', '408'), tensor([-0.9321, -0.1175])],\n",
       " [('589', '881'), tensor([-0.9446, -0.1176])],\n",
       " [('993', '1064'), tensor([-0.9203, -0.1176])],\n",
       " [('454', '1053'), tensor([-0.9169, -0.1178])],\n",
       " [('813', '1336'), tensor([-0.9140, -0.1181])],\n",
       " [('172', '930'), tensor([-0.9375, -0.1186])],\n",
       " [('917', '1008'), tensor([-0.9406, -0.1187])],\n",
       " [('739', '1399'), tensor([-0.9086, -0.1189])],\n",
       " [('1344', '1201'), tensor([-0.9113, -0.1192])],\n",
       " [('994', '909'), tensor([-0.9301, -0.1192])],\n",
       " [('1064', '1024'), tensor([-0.9200, -0.1194])],\n",
       " [('993', '38'), tensor([-0.9142, -0.1195])],\n",
       " [('506', '1285'), tensor([-0.9175, -0.1195])],\n",
       " [('1028', '526'), tensor([-0.9101, -0.1197])],\n",
       " [('869', '762'), tensor([-0.9027, -0.1198])],\n",
       " [('79', '202'), tensor([-0.9189, -0.1205])],\n",
       " [('1175', '1336'), tensor([-0.9291, -0.1208])],\n",
       " [('1344', '1216'), tensor([-0.9102, -0.1208])],\n",
       " [('1344', '1219'), tensor([-0.9102, -0.1208])],\n",
       " [('1131', '1019'), tensor([-0.9199, -0.1209])],\n",
       " [('401', '1064'), tensor([-0.9296, -0.1210])],\n",
       " [('1006', '1269'), tensor([-0.9169, -0.1210])],\n",
       " [('1006', '1284'), tensor([-0.9169, -0.1210])],\n",
       " [('490', '528'), tensor([-0.9138, -0.1210])],\n",
       " [('538', '30'), tensor([-0.9151, -0.1213])],\n",
       " [('287', '1162'), tensor([-0.9271, -0.1214])],\n",
       " [('435', '399'), tensor([-0.9318, -0.1214])],\n",
       " [('464', '834'), tensor([-0.9497, -0.1215])],\n",
       " [('647', '315'), tensor([-0.9327, -0.1220])],\n",
       " [('798', '758'), tensor([-0.9105, -0.1220])],\n",
       " [('1233', '1177'), tensor([-0.9151, -0.1220])],\n",
       " [('358', '909'), tensor([-0.9456, -0.1222])],\n",
       " [('666', '1105'), tensor([-0.9362, -0.1223])],\n",
       " [('490', '1325'), tensor([-0.9089, -0.1225])],\n",
       " [('490', '1288'), tensor([-0.9183, -0.1226])],\n",
       " [('490', '514'), tensor([-0.9115, -0.1226])],\n",
       " [('854', '889'), tensor([-0.9252, -0.1229])]]"
      ]
     },
     "execution_count": 160,
     "metadata": {},
     "output_type": "execute_result"
    }
   ],
   "source": [
    "out[7000:7100]"
   ]
  },
  {
   "cell_type": "code",
   "execution_count": null,
   "id": "75760572",
   "metadata": {},
   "outputs": [],
   "source": []
  }
 ],
 "metadata": {
  "kernelspec": {
   "display_name": "Python 3 (ipykernel)",
   "language": "python",
   "name": "python3"
  },
  "language_info": {
   "codemirror_mode": {
    "name": "ipython",
    "version": 3
   },
   "file_extension": ".py",
   "mimetype": "text/x-python",
   "name": "python",
   "nbconvert_exporter": "python",
   "pygments_lexer": "ipython3",
   "version": "3.8.11"
  }
 },
 "nbformat": 4,
 "nbformat_minor": 5
}
